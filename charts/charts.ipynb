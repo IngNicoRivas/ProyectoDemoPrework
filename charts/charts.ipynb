{
 "cells": [
  {
   "attachments": {},
   "cell_type": "markdown",
   "metadata": {},
   "source": [
    "# Charts\n",
    "generate graph to PIP class"
   ]
  },
  {
   "cell_type": "code",
   "execution_count": null,
   "metadata": {},
   "outputs": [],
   "source": [
    "import matplotlib.pyplot as plt"
   ]
  },
  {
   "attachments": {},
   "cell_type": "markdown",
   "metadata": {},
   "source": [
    "In this case the script doesn't stop with `plt.show()` but `plt.savefig`. Copy Relative Path to specify the folder."
   ]
  },
  {
   "cell_type": "code",
   "execution_count": null,
   "metadata": {},
   "outputs": [],
   "source": [
    "def generate_pie_chart():\n",
    "    labels = ['A', 'B', 'C']\n",
    "    values = [200, 34, 120]\n",
    "\n",
    "    fig, ax = plt.subplots()\n",
    "    ax.pie(values, labels=labels)\n",
    "    plt.savefig('./py_project/charts/pie.png')\n",
    "    plt.close() "
   ]
  },
  {
   "attachments": {},
   "cell_type": "markdown",
   "metadata": {},
   "source": [
    "## New module\n",
    "In main.py called it\n",
    "We can use `from ipynb.fs.full import charts` and called `charts.generate_pie_chart()`\n",
    "or more efficient `from ipynb.fs.full.charts import generate_pie_chart`"
   ]
  },
  {
   "cell_type": "code",
   "execution_count": null,
   "metadata": {},
   "outputs": [],
   "source": [
    "from ipynb.fs.full.charts import generate_pie_chart\n",
    "\n",
    "def run():\n",
    "    generate_pie_chart()\n",
    "\n",
    "if __name__ == '__main__':\n",
    "    run()"
   ]
  }
 ],
 "metadata": {
  "kernelspec": {
   "display_name": "pydata1",
   "language": "python",
   "name": "python3"
  },
  "language_info": {
   "codemirror_mode": {
    "name": "ipython",
    "version": 3
   },
   "file_extension": ".py",
   "mimetype": "text/x-python",
   "name": "python",
   "nbconvert_exporter": "python",
   "pygments_lexer": "ipython3",
   "version": "3.11.3"
  },
  "orig_nbformat": 4
 },
 "nbformat": 4,
 "nbformat_minor": 2
}
